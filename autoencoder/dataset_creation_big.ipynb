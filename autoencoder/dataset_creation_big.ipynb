{
 "cells": [
  {
   "cell_type": "markdown",
   "source": [
    "Code ist im Rahmen der Bachelorarbeit von Annika Kies am FZI Karlsruhe mit dem Titel\r\n",
    "\"Entwicklung und Analyse von Auto-Encodern für intelligente Agenten zum Erlernen von Atari-Spielen\"\r\n",
    "entstanden.\r\n",
    "Code dient zur Erstellung von Datensätzen in einer .npy-Datei.\r\n",
    "Datensatz liegt an sich schon in einem Ordner vor, hier wird nur die Umwandlung von Bilder in eine .npy-Datei vorgenommen.\r\n",
    "Hier sind die Datensätze Q*Bert-Graustufen und Space Invaders - Graustufen gezeigt. "
   ],
   "metadata": {}
  },
  {
   "cell_type": "code",
   "execution_count": 2,
   "source": [
    "from PIL import Image\r\n",
    "from numpy import asarray\r\n",
    "import os\r\n",
    "from numpy import save\r\n",
    "import random\r\n",
    "\r\n",
    "\"\"\"\r\n",
    "Funktion iteriert über jedes Bild im Ordner und wandelt es in ein Array um.\r\n",
    "Array wird dann dem Testdatensatz hinzugefügt.\r\n",
    "\"\"\"\r\n",
    "def create_paths(folder):\r\n",
    "    for img_path in os.listdir(folder):\r\n",
    "        paths.append(img_path)\r\n",
    "\r\n",
    "\r\n",
    "\"\"\"\r\n",
    "Funktion speichert einen Datensatz, mit Pfadangabe.\r\n",
    "\"\"\"\r\n",
    "def save_dataset(pathName, data):\r\n",
    "    save(pathName, data)\r\n",
    "\r\n",
    "if __name__ == '__main__':\r\n",
    "    paths = []\r\n",
    "\r\n",
    "    create_paths('images_small_size_big')\r\n",
    "\r\n",
    "    save_dataset('big_dataset_paths.npy', paths)"
   ],
   "outputs": [],
   "metadata": {}
  }
 ],
 "metadata": {
  "orig_nbformat": 4,
  "language_info": {
   "name": "python",
   "version": "3.9.7",
   "mimetype": "text/x-python",
   "codemirror_mode": {
    "name": "ipython",
    "version": 3
   },
   "pygments_lexer": "ipython3",
   "nbconvert_exporter": "python",
   "file_extension": ".py"
  },
  "kernelspec": {
   "name": "python3",
   "display_name": "Python 3.9.7 64-bit (windows store)"
  },
  "interpreter": {
   "hash": "8939ef2a51d490bca7e91ec38d59beed54b6b64a52526ae9dee62e8212aad3c4"
  }
 },
 "nbformat": 4,
 "nbformat_minor": 2
}