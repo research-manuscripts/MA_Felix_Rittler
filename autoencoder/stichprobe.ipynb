{
 "cells": [
  {
   "cell_type": "markdown",
   "source": [
    "Tests an autoencoder by calculating loss and printing both original and generated image."
   ],
   "metadata": {}
  },
  {
   "cell_type": "code",
   "execution_count": null,
   "source": [
    "import torch\r\n",
    "from matplotlib import pyplot as plt\r\n",
    "from AutoencoderSmallerImages import Autoencoder2VAEMediumConv\r\n",
    "import GuiImageDataset\r\n",
    "import numpy as np\r\n",
    "from torch_service import show_torch_image\r\n",
    "from torch import nn\r\n",
    "from numpy import load\r\n",
    "import itertools"
   ],
   "outputs": [],
   "metadata": {}
  },
  {
   "cell_type": "code",
   "execution_count": null,
   "source": [
    "autoencoder_path = \"trained_autoencoders/VAEMediumConv.pt\"\r\n",
    "\r\n",
    "model = Autoencoder2VAEMediumConv()"
   ],
   "outputs": [],
   "metadata": {}
  },
  {
   "cell_type": "code",
   "execution_count": null,
   "source": [
    "dataset = load(\"datasets/images_smaller_size.npy\")\r\n",
    "transformed_dataset = GuiImageDataset.GuiImageDataset(dataset)\r\n",
    "dataset_loader =  torch.utils.data.DataLoader(transformed_dataset, batch_size=1, num_workers=0)"
   ],
   "outputs": [],
   "metadata": {}
  },
  {
   "cell_type": "code",
   "execution_count": null,
   "source": [
    "# print random images\r\n",
    "#Utility functions to un-normalize and display an image\r\n",
    "def imshow(img):\r\n",
    "    plt.figure(figsize=(100,100))\r\n",
    "    plt.imshow(np.transpose(img, (1, 2, 0))) \r\n",
    "\r\n",
    "#Obtain one batch of training images\r\n",
    "dataiter = iter(dataset_loader)\r\n",
    "images = dataiter.next()\r\n",
    "images = images.numpy() # convert images to numpy for display\r\n",
    "\r\n",
    "#Plot the images\r\n",
    "fig = plt.figure(figsize=(8, 8))\r\n",
    "# display 1 image\r\n",
    "for idx in np.arange(1):\r\n",
    "    imshow(images[idx])\r\n"
   ],
   "outputs": [],
   "metadata": {}
  },
  {
   "cell_type": "code",
   "execution_count": null,
   "source": [
    "# Hier wird der trainierte Auto-Encoder geladen\r\n",
    "model.load_state_dict(torch.load(autoencoder_path))\r\n",
    "# ae.eval()\r\n",
    "\r\n",
    "for data in itertools.islice(dataset_loader, 2):\r\n",
    "    images = data\r\n",
    "    pred = model(images)\r\n",
    "    loss = nn.MSELoss()(pred, images)\r\n",
    "    pred = pred.permute(0, 2, 3, 1)\r\n",
    "\r\n",
    "    print(pred.shape)\r\n",
    "    frame = images[0].detach().permute(1,2,0)\r\n",
    "    print(\"Loss: \", loss.item())\r\n",
    "    show_torch_image(frame)\r\n",
    "    show_torch_image(pred[0].detach())\r\n",
    "\r\n",
    "\r\n",
    "\r\n",
    "pred = pred.permute(0, 2, 3, 1)\r\n",
    "\r\n",
    "print(pred.shape)\r\n",
    "frame = images[0].detach().permute(1,2,0)\r\n",
    "print(\"Loss: \", loss.item())\r\n",
    "show_torch_image(frame)\r\n",
    "show_torch_image(pred[0].detach())"
   ],
   "outputs": [],
   "metadata": {}
  }
 ],
 "metadata": {
  "orig_nbformat": 4,
  "language_info": {
   "name": "python",
   "version": "3.9.7",
   "mimetype": "text/x-python",
   "codemirror_mode": {
    "name": "ipython",
    "version": 3
   },
   "pygments_lexer": "ipython3",
   "nbconvert_exporter": "python",
   "file_extension": ".py"
  },
  "kernelspec": {
   "name": "python3",
   "display_name": "Python 3.9.7 64-bit ('env': venv)"
  },
  "interpreter": {
   "hash": "c80c68aed7233e9cd8904d31132a1c8e7fd29072e63acb4e95912a78cbdc11e6"
  }
 },
 "nbformat": 4,
 "nbformat_minor": 2
}