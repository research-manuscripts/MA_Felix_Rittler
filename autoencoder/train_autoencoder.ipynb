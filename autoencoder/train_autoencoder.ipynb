{
 "cells": [
  {
   "cell_type": "code",
   "execution_count": null,
   "source": [
    "%load_ext autoreload\r\n",
    "%autoreload 2"
   ],
   "outputs": [],
   "metadata": {}
  },
  {
   "cell_type": "code",
   "execution_count": null,
   "source": [
    "import os\r\n",
    "\r\n",
    "import torch\r\n",
    "from numpy import load\r\n",
    "import numpy as np\r\n",
    "from torch import nn\r\n",
    "import matplotlib.pyplot as plt\r\n",
    "import GuiImageDataset\r\n",
    "\r\n",
    "import AutoencoderSmallerImages\r\n",
    "%matplotlib inline\r\n"
   ],
   "outputs": [],
   "metadata": {}
  },
  {
   "cell_type": "code",
   "execution_count": null,
   "source": [
    "def to_img(x):\r\n",
    "    x = 0.5 * (x + 1)\r\n",
    "    x = x.clamp(0, 1)\r\n",
    "    x = x.view(x.size(0), 1, 28, 28)\r\n",
    "    return x"
   ],
   "outputs": [],
   "metadata": {}
  },
  {
   "cell_type": "code",
   "execution_count": null,
   "source": [
    "\"\"\"\r\n",
    "Funktion lädt den Datensatz\r\n",
    "\"\"\"\r\n",
    "def load_dataset(path):\r\n",
    "    return load(path)\r\n",
    "\r\n",
    "\r\n",
    "def load_paths_from_folder(folder_name):\r\n",
    "    paths = []\r\n",
    "    for path in os.listdir(folder_name):\r\n",
    "        paths.append(folder_name + \"/\" + path)\r\n",
    "    return paths\r\n",
    "\r\n",
    "\"\"\"\r\n",
    "Funktion normalisiert einen Pixelwert\r\n",
    "\"\"\"\r\n",
    "def normalize(v):\r\n",
    "    return v / 255"
   ],
   "outputs": [],
   "metadata": {}
  },
  {
   "cell_type": "code",
   "execution_count": null,
   "source": [
    "paths = load_paths_from_folder(\"datasets/images_small_size_big\")\r\n"
   ],
   "outputs": [],
   "metadata": {}
  },
  {
   "cell_type": "code",
   "execution_count": null,
   "source": [
    "# trn_dataloader = torch.utils.data.DataLoader(trn, batch_size=1, shuffle=False, num_workers=0)\r\n",
    "\r\n",
    "transformed_dataset = GuiImageDataset.LazyLoadedGuiImageDataset(paths)\r\n",
    "dataset_loader =  torch.utils.data.DataLoader(transformed_dataset, batch_size=2, num_workers=0)\r\n",
    "\r\n",
    "print(\"Training Datensatz:\")\r\n",
    "print(len(paths))\r\n",
    "print(transformed_dataset.__getitem__(0).shape)\r\n",
    "# dataloader = DataLoader(dataset, batch_size=batch_size, shuffle=True)"
   ],
   "outputs": [],
   "metadata": {}
  },
  {
   "cell_type": "code",
   "execution_count": null,
   "source": [
    "# print random images\r\n",
    "#Utility functions to un-normalize and display an image\r\n",
    "def imshow(img):\r\n",
    "    img = img / 2 + 0.5  \r\n",
    "    plt.imshow(np.transpose(img, (1, 2, 0))) \r\n",
    "\r\n",
    "#Obtain one batch of training images\r\n",
    "dataiter = iter(dataset_loader)\r\n",
    "images = dataiter.next()\r\n",
    "images = images.numpy() # convert images to numpy for display\r\n",
    "\r\n",
    "#Plot the images\r\n",
    "fig = plt.figure(figsize=(8, 8))\r\n",
    "# display 1 image\r\n",
    "for idx in np.arange(1):\r\n",
    "    ax = fig.add_subplot(3, 3, idx+1, xticks=[], yticks=[])\r\n",
    "    imshow(images[idx])\r\n"
   ],
   "outputs": [],
   "metadata": {}
  },
  {
   "cell_type": "code",
   "execution_count": null,
   "source": [
    "model = AutoencoderSmallerImages.Autoencoder2VAEMediumConv()\r\n",
    "# model.load_state_dict(torch.load(\"trained_autoencoders/VAEMediumConv.pt\"))\r\n",
    "\r\n",
    "learning_rate = 4e-5\r\n",
    "\r\n",
    "criterion = nn.BCELoss()\r\n",
    "optimizer = torch.optim.Adamax(\r\n",
    "    model.parameters(), lr=learning_rate\r\n",
    ")\r\n"
   ],
   "outputs": [],
   "metadata": {}
  },
  {
   "cell_type": "code",
   "execution_count": null,
   "source": [
    "def get_device():\r\n",
    "    if torch.cuda.is_available():\r\n",
    "        device = 'cuda:0'\r\n",
    "    else:\r\n",
    "        device = 'cpu'\r\n",
    "    return device\r\n",
    "\r\n",
    "device = get_device()\r\n",
    "print(device)\r\n",
    "model.to(device)"
   ],
   "outputs": [],
   "metadata": {}
  },
  {
   "cell_type": "code",
   "execution_count": null,
   "source": [
    "#Epochs\r\n",
    "n_epochs = 1\r\n",
    "\r\n",
    "for epoch in range(1, n_epochs+1):\r\n",
    "    # monitor training loss\r\n",
    "    train_loss = 0.0\r\n",
    "    i=0\r\n",
    "    #Training\r\n",
    "    for data in dataset_loader:\r\n",
    "        if (i>8000):\r\n",
    "            break\r\n",
    "        print('Batch Index: {}'.format(i))\r\n",
    "        i+=1\r\n",
    "        images = data\r\n",
    "        # images = torch.autograd.Variable(images)\r\n",
    "        images = images.to(device)\r\n",
    "        optimizer.zero_grad()\r\n",
    "        outputs = model(images)\r\n",
    "        loss = criterion(outputs, images)\r\n",
    "        loss.backward()\r\n",
    "        optimizer.step()\r\n",
    "        train_loss += loss.item()*images.size(0)\r\n",
    "        print(loss.item())\r\n",
    "          \r\n",
    "    train_loss = train_loss/len(dataset_loader)\r\n",
    "    print('Epoch: {} \\tTraining Loss: {:.6f}'.format(epoch, train_loss))"
   ],
   "outputs": [],
   "metadata": {}
  },
  {
   "cell_type": "code",
   "execution_count": null,
   "source": [
    "print(train_loss/750*len(dataset_loader))\r\n",
    "torch.save(model.state_dict(), \"autoencoder_test.pt\")"
   ],
   "outputs": [],
   "metadata": {}
  }
 ],
 "metadata": {
  "orig_nbformat": 4,
  "language_info": {
   "name": "python",
   "version": "3.9.7",
   "mimetype": "text/x-python",
   "codemirror_mode": {
    "name": "ipython",
    "version": 3
   },
   "pygments_lexer": "ipython3",
   "nbconvert_exporter": "python",
   "file_extension": ".py"
  },
  "kernelspec": {
   "name": "python3",
   "display_name": "Python 3.9.7 64-bit ('env': venv)"
  },
  "interpreter": {
   "hash": "c80c68aed7233e9cd8904d31132a1c8e7fd29072e63acb4e95912a78cbdc11e6"
  }
 },
 "nbformat": 4,
 "nbformat_minor": 2
}